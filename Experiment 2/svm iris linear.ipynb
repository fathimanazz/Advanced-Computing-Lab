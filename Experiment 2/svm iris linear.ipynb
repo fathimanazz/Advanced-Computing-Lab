{
  "nbformat": 4,
  "nbformat_minor": 0,
  "metadata": {
    "colab": {
      "name": "Untitled1.ipynb",
      "provenance": [],
      "authorship_tag": "ABX9TyMFSYPgKtF/swuFPeoFLf1q",
      "include_colab_link": true
    },
    "kernelspec": {
      "name": "python3",
      "display_name": "Python 3"
    },
    "language_info": {
      "name": "python"
    }
  },
  "cells": [
    {
      "cell_type": "markdown",
      "metadata": {
        "id": "view-in-github",
        "colab_type": "text"
      },
      "source": [
        "<a href=\"https://colab.research.google.com/github/fathimanazz/Advanced-Computing-Lab/blob/main/Experiment%202/svm%20iris%20linear.ipynb\" target=\"_parent\"><img src=\"https://colab.research.google.com/assets/colab-badge.svg\" alt=\"Open In Colab\"/></a>"
      ]
    },
    {
      "cell_type": "code",
      "execution_count": 1,
      "metadata": {
        "id": "iXGdCAImP9aS"
      },
      "outputs": [],
      "source": [
        "import pandas as pd\n",
        "file=pd.read_csv(\"/content/IRIS.csv\")\n",
        "X=file[[\"sepal_length\",\"sepal_width\",\"petal_length\",\"petal_length\"]]\n",
        "Y=file[\"species\"]"
      ]
    },
    {
      "cell_type": "code",
      "source": [
        "from sklearn.svm import SVC\n",
        "ml=SVC(kernel='linear',C=1.0)\n",
        "ml=ml.fit(X,Y)\n",
        "res=ml.predict([[8.5,9.9,6.3,5.2]])\n",
        "print(res)"
      ],
      "metadata": {
        "colab": {
          "base_uri": "https://localhost:8080/"
        },
        "id": "TxQws8F2QLwq",
        "outputId": "67ad92a5-da29-4e9e-bea2-fab17000b28c"
      },
      "execution_count": 2,
      "outputs": [
        {
          "output_type": "stream",
          "name": "stdout",
          "text": [
            "['Iris-versicolor']\n"
          ]
        },
        {
          "output_type": "stream",
          "name": "stderr",
          "text": [
            "/usr/local/lib/python3.7/dist-packages/sklearn/base.py:451: UserWarning: X does not have valid feature names, but SVC was fitted with feature names\n",
            "  \"X does not have valid feature names, but\"\n"
          ]
        }
      ]
    }
  ]
}